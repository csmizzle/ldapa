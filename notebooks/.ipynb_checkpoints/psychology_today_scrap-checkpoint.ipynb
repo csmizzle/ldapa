{
 "cells": [
  {
   "cell_type": "code",
   "execution_count": 46,
   "metadata": {},
   "outputs": [],
   "source": [
    "from selenium.webdriver import Chrome\n",
    "from selenium.webdriver.common.keys import Keys\n",
    "from bs4 import BeautifulSoup\n",
    "import re"
   ]
  },
  {
   "cell_type": "code",
   "execution_count": 17,
   "metadata": {},
   "outputs": [],
   "source": [
    "driver = Chrome(r'C:\\Users\\chris\\Desktop\\Werk\\LDAPA\\driver\\chromedriver.exe')"
   ]
  },
  {
   "cell_type": "code",
   "execution_count": 28,
   "metadata": {},
   "outputs": [],
   "source": [
    "driver.get('https://www.psychologytoday.com/us')"
   ]
  },
  {
   "cell_type": "code",
   "execution_count": 29,
   "metadata": {},
   "outputs": [],
   "source": [
    "textbox = driver.find_element_by_xpath('//input[@class=\"large has-menu\"]')"
   ]
  },
  {
   "cell_type": "code",
   "execution_count": 30,
   "metadata": {},
   "outputs": [],
   "source": [
    "textbox.click()"
   ]
  },
  {
   "cell_type": "code",
   "execution_count": 31,
   "metadata": {},
   "outputs": [],
   "source": [
    "textbox.send_keys('Pittsburgh, PA', Keys.ENTER)"
   ]
  },
  {
   "cell_type": "code",
   "execution_count": 32,
   "metadata": {},
   "outputs": [],
   "source": [
    "page_source = driver.page_source"
   ]
  },
  {
   "cell_type": "code",
   "execution_count": 34,
   "metadata": {},
   "outputs": [],
   "source": [
    "soup = BeautifulSoup(page_source)"
   ]
  },
  {
   "cell_type": "code",
   "execution_count": 42,
   "metadata": {},
   "outputs": [],
   "source": [
    "links = soup.findAll('a', {'class': 'result-name'})"
   ]
  },
  {
   "cell_type": "code",
   "execution_count": 73,
   "metadata": {},
   "outputs": [],
   "source": [
    "hrefs = []\n",
    "for l in links:\n",
    "    string = str(l)\n",
    "    entry = re.findall('(?<=href=\\\")(.*)(?=\\\" item)', string)\n",
    "    hrefs.append(entry[0])"
   ]
  },
  {
   "cell_type": "code",
   "execution_count": 74,
   "metadata": {},
   "outputs": [
    {
     "data": {
      "text/plain": [
       "['https://www.psychologytoday.com/us/therapists/pa/pittsburgh/389752?sid=5e125645e035f&amp;ref=1&amp;tr=ResultsName',\n",
       " 'https://www.psychologytoday.com/us/therapists/pa/pittsburgh/92382?sid=5e125645e035f&amp;ref=2&amp;tr=ResultsName',\n",
       " 'https://www.psychologytoday.com/us/therapists/pa/pittsburgh/416633?sid=5e125645e035f&amp;ref=3&amp;tr=ResultsName',\n",
       " 'https://www.psychologytoday.com/us/therapists/pa/pittsburgh/347100?sid=5e125645e035f&amp;ref=4&amp;tr=ResultsName',\n",
       " 'https://www.psychologytoday.com/us/therapists/pa/pittsburgh/455670?sid=5e125645e035f&amp;ref=5&amp;tr=ResultsName',\n",
       " 'https://www.psychologytoday.com/us/therapists/pa/pittsburgh/464015?sid=5e125645e035f&amp;ref=6&amp;tr=ResultsName',\n",
       " 'https://www.psychologytoday.com/us/therapists/pa/pittsburgh/478931?sid=5e125645e035f&amp;ref=7&amp;tr=ResultsName',\n",
       " 'https://www.psychologytoday.com/us/therapists/pa/pittsburgh/238714?sid=5e125645e035f&amp;ref=8&amp;tr=ResultsName',\n",
       " 'https://www.psychologytoday.com/us/therapists/pa/pittsburgh/288551?sid=5e125645e035f&amp;ref=9&amp;tr=ResultsName',\n",
       " 'https://www.psychologytoday.com/us/therapists/pa/pittsburgh/146292?sid=5e125645e035f&amp;ref=10&amp;tr=ResultsName',\n",
       " 'https://www.psychologytoday.com/us/therapists/pa/pittsburgh/103879?sid=5e125645e035f&amp;ref=11&amp;tr=ResultsName',\n",
       " 'https://www.psychologytoday.com/us/therapists/pa/pittsburgh/326399?sid=5e125645e035f&amp;ref=12&amp;tr=ResultsName',\n",
       " 'https://www.psychologytoday.com/us/therapists/pa/pittsburgh/262504?sid=5e125645e035f&amp;ref=13&amp;tr=ResultsName',\n",
       " 'https://www.psychologytoday.com/us/therapists/pa/pittsburgh/281634?sid=5e125645e035f&amp;ref=14&amp;tr=ResultsName',\n",
       " 'https://www.psychologytoday.com/us/therapists/pa/pittsburgh/49751?sid=5e125645e035f&amp;ref=15&amp;tr=ResultsName',\n",
       " 'https://www.psychologytoday.com/us/therapists/pa/pittsburgh/418482?sid=5e125645e035f&amp;ref=16&amp;tr=ResultsName',\n",
       " 'https://www.psychologytoday.com/us/therapists/pa/pittsburgh/212466?sid=5e125645e035f&amp;ref=17&amp;tr=ResultsName',\n",
       " 'https://www.psychologytoday.com/us/therapists/pa/pittsburgh/475933?sid=5e125645e035f&amp;ref=18&amp;tr=ResultsName',\n",
       " 'https://www.psychologytoday.com/us/therapists/pa/pittsburgh/705553?sid=5e125645e035f&amp;ref=19&amp;tr=ResultsName',\n",
       " 'https://www.psychologytoday.com/us/therapists/pa/pittsburgh/174514?sid=5e125645e035f&amp;ref=20&amp;tr=ResultsName']"
      ]
     },
     "execution_count": 74,
     "metadata": {},
     "output_type": "execute_result"
    }
   ],
   "source": [
    "hrefs"
   ]
  }
 ],
 "metadata": {
  "kernelspec": {
   "display_name": "Python 3",
   "language": "python",
   "name": "python3"
  },
  "language_info": {
   "codemirror_mode": {
    "name": "ipython",
    "version": 3
   },
   "file_extension": ".py",
   "mimetype": "text/x-python",
   "name": "python",
   "nbconvert_exporter": "python",
   "pygments_lexer": "ipython3",
   "version": "3.7.1"
  }
 },
 "nbformat": 4,
 "nbformat_minor": 2
}
