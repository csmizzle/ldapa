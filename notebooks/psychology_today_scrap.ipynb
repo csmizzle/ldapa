{
 "cells": [
  {
   "cell_type": "code",
   "execution_count": null,
   "metadata": {},
   "outputs": [],
   "source": [
    "from selenium.webdriver import Chrome, ChromeOptions\n",
    "from selenium.webdriver.common.keys import Keys\n",
    "from selenium.common.exceptions import StaleElementReferenceException, NoSuchElementException\n",
    "from bs4 import BeautifulSoup\n",
    "import re\n",
    "from time import sleep\n",
    "import pickle"
   ]
  },
  {
   "cell_type": "code",
   "execution_count": null,
   "metadata": {},
   "outputs": [],
   "source": [
    "def search(driver, city, state):\n",
    "    textbox = driver.find_element_by_xpath('//input[@class=\"large has-menu\"]')\n",
    "    textbox.click()\n",
    "    textbox.send_keys(str(city)+', '+str(state), Keys.ENTER)"
   ]
  },
  {
   "cell_type": "code",
   "execution_count": 3,
   "metadata": {},
   "outputs": [],
   "source": [
    "def get_links_from_page(driver):\n",
    "    page_source = driver.page_source\n",
    "    soup = BeautifulSoup(page_source)\n",
    "    links = soup.findAll('a', {'class': 'result-name'})\n",
    "    hrefs = []\n",
    "    for l in links:\n",
    "        string = str(l)\n",
    "        entry = re.findall('(?<=href=\\\")(.*)(?=\\\" item)', string)\n",
    "        hrefs.append(entry[0])\n",
    "    return hrefs"
   ]
  },
  {
   "cell_type": "code",
   "execution_count": 4,
   "metadata": {},
   "outputs": [],
   "source": [
    "def next_page(driver):\n",
    "    nextpage=driver.find_element_by_xpath('//a[@class=\"btn btn-default btn-next\"]')\n",
    "    if nextpage:\n",
    "        print('Moving to next page ...')\n",
    "        nextpage.click()\n",
    "    else:\n",
    "        print('No more pages ...')"
   ]
  },
  {
   "cell_type": "code",
   "execution_count": 5,
   "metadata": {},
   "outputs": [],
   "source": [
    "def pagination(driver):\n",
    "    link_text=get_links_from_page(driver)\n",
    "    next_page(driver)\n",
    "    return link_text"
   ]
  },
  {
   "cell_type": "code",
   "execution_count": 74,
   "metadata": {},
   "outputs": [],
   "source": [
    "def collect_links():\n",
    "    results=[]\n",
    "    chrome_option=ChromeOptions()\n",
    "    chrome_option.add_argument('--headless')\n",
    "    driver=Chrome(r'C:\\Users\\17247\\Desktop\\Werk\\ldapa\\driver\\chromedriver.exe', options=chrome_option)\n",
    "    driver.get('https://www.psychologytoday.com/us')\n",
    "    search(driver, 'Pittsburgh', 'PA')\n",
    "    while True:\n",
    "        try:\n",
    "            entry=pagination(driver)\n",
    "            results.append(entry)\n",
    "        except StaleElementReferenceException as e:\n",
    "            print('Error:', e)\n",
    "            continue\n",
    "        except NoSuchElementException as e:\n",
    "            print('No more pages ...')\n",
    "            break\n",
    "    driver.close()\n",
    "    return results"
   ]
  },
  {
   "cell_type": "code",
   "execution_count": 88,
   "metadata": {},
   "outputs": [],
   "source": [
    "def parse_pages(list_of_links):\n",
    "    result_list=[]\n",
    "    driver=Chrome(r'C:\\Users\\17247\\Desktop\\Werk\\ldapa\\driver\\chromedriver.exe')\n",
    "    for l in list_of_links:\n",
    "        result={}\n",
    "        driver.get(l)\n",
    "        soup=BeautifulSoup(driver.page_source)\n",
    "        name=soup.find('h1', {'itemprop':'name'})\n",
    "        if name:\n",
    "            result['name']=name.text\n",
    "        else:\n",
    "            result['name']='None'\n",
    "        phone=soup.find('a',{'data-event-label':'Profile_PhoneLink'})\n",
    "        if phone:\n",
    "            result['phone']=phone.text\n",
    "        else:\n",
    "            result['phone']='None'\n",
    "        city=soup.find('span',{'itemprop':'addressLocality'})\n",
    "        if city:\n",
    "            result['city']=city.text.replace(',','')\n",
    "        else:\n",
    "            result['city']='None'\n",
    "        state=soup.find('span',{'itemprop':'addressRegion'})\n",
    "        if state:\n",
    "            result['state']=state.text\n",
    "        else:\n",
    "            result['state']='None'\n",
    "        zip_code=soup.find('span',{'itemprop':'postalcode'})\n",
    "        if zip_code:\n",
    "            result['zip_code']=zip_code.text\n",
    "        else:\n",
    "            result['zip_code']='None'\n",
    "        specalites=soup.findAll('li', {'class':'highlight'})\n",
    "        if specalites:\n",
    "            spec_text = [s.text.strip() for s in specalites]\n",
    "            result['specs']=spec_text\n",
    "        else:\n",
    "            result['specs']='None'\n",
    "        result_list.append(result)\n",
    "    return result_list"
   ]
  },
  {
   "cell_type": "code",
   "execution_count": 7,
   "metadata": {
    "scrolled": true
   },
   "outputs": [
    {
     "name": "stdout",
     "output_type": "stream",
     "text": [
      "Moving to next page ...\n",
      "Moving to next page ...\n",
      "Moving to next page ...\n",
      "Moving to next page ...\n",
      "Moving to next page ...\n",
      "Moving to next page ...\n",
      "Error: Message: stale element reference: element is not attached to the page document\n",
      "  (Session info: headless chrome=79.0.3945.117)\n",
      "\n",
      "Moving to next page ...\n",
      "Moving to next page ...\n",
      "Moving to next page ...\n",
      "Moving to next page ...\n",
      "Moving to next page ...\n",
      "Moving to next page ...\n",
      "Moving to next page ...\n",
      "Moving to next page ...\n",
      "Moving to next page ...\n",
      "Moving to next page ...\n",
      "Moving to next page ...\n",
      "Moving to next page ...\n",
      "Moving to next page ...\n",
      "Error: Message: stale element reference: element is not attached to the page document\n",
      "  (Session info: headless chrome=79.0.3945.117)\n",
      "\n",
      "Moving to next page ...\n",
      "Moving to next page ...\n",
      "Moving to next page ...\n",
      "Moving to next page ...\n",
      "Error: Message: stale element reference: element is not attached to the page document\n",
      "  (Session info: headless chrome=79.0.3945.117)\n",
      "\n",
      "Moving to next page ...\n",
      "Moving to next page ...\n",
      "Error: Message: stale element reference: element is not attached to the page document\n",
      "  (Session info: headless chrome=79.0.3945.117)\n",
      "\n",
      "Moving to next page ...\n",
      "Moving to next page ...\n",
      "Moving to next page ...\n",
      "Moving to next page ...\n",
      "Moving to next page ...\n",
      "Moving to next page ...\n",
      "Moving to next page ...\n",
      "Moving to next page ...\n",
      "Moving to next page ...\n",
      "Moving to next page ...\n",
      "Moving to next page ...\n",
      "Moving to next page ...\n",
      "Moving to next page ...\n",
      "Error: Message: stale element reference: element is not attached to the page document\n",
      "  (Session info: headless chrome=79.0.3945.117)\n",
      "\n",
      "Moving to next page ...\n",
      "Moving to next page ...\n",
      "Moving to next page ...\n",
      "Moving to next page ...\n",
      "Moving to next page ...\n",
      "Moving to next page ...\n",
      "Moving to next page ...\n",
      "Moving to next page ...\n",
      "Moving to next page ...\n",
      "Moving to next page ...\n",
      "Moving to next page ...\n",
      "Moving to next page ...\n",
      "Moving to next page ...\n",
      "Moving to next page ...\n",
      "Moving to next page ...\n",
      "Moving to next page ...\n",
      "Moving to next page ...\n",
      "Error: Message: stale element reference: element is not attached to the page document\n",
      "  (Session info: headless chrome=79.0.3945.117)\n",
      "\n",
      "Moving to next page ...\n",
      "Moving to next page ...\n",
      "Moving to next page ...\n",
      "Moving to next page ...\n",
      "Moving to next page ...\n",
      "Moving to next page ...\n",
      "Moving to next page ...\n",
      "Error: Message: stale element reference: element is not attached to the page document\n",
      "  (Session info: headless chrome=79.0.3945.117)\n",
      "\n",
      "Moving to next page ...\n",
      "Moving to next page ...\n",
      "Moving to next page ...\n",
      "No more pages ...\n"
     ]
    }
   ],
   "source": [
    "r=collect_links()"
   ]
  },
  {
   "cell_type": "code",
   "execution_count": 89,
   "metadata": {},
   "outputs": [],
   "source": [
    "final_list = []\n",
    "for sublist in r:\n",
    "    for item in sublist:\n",
    "        final_list.append(item)"
   ]
  },
  {
   "cell_type": "code",
   "execution_count": 93,
   "metadata": {},
   "outputs": [],
   "source": [
    "list_to_parse=list(set(final_list))"
   ]
  },
  {
   "cell_type": "code",
   "execution_count": 94,
   "metadata": {},
   "outputs": [],
   "source": [
    "data_to_enter=parse_pages(list_to_parse)"
   ]
  },
  {
   "cell_type": "code",
   "execution_count": 95,
   "metadata": {},
   "outputs": [
    {
     "data": {
      "text/plain": [
       "640"
      ]
     },
     "execution_count": 95,
     "metadata": {},
     "output_type": "execute_result"
    }
   ],
   "source": [
    "len(data_to_enter)"
   ]
  },
  {
   "cell_type": "code",
   "execution_count": 100,
   "metadata": {},
   "outputs": [],
   "source": [
    "with open(\"pitt_data.txt\", \"wb\") as fp:\n",
    "    pickle.dump(data_to_enter, fp)"
   ]
  },
  {
   "cell_type": "code",
   "execution_count": null,
   "metadata": {},
   "outputs": [],
   "source": []
  }
 ],
 "metadata": {
  "kernelspec": {
   "display_name": "Python 3",
   "language": "python",
   "name": "python3"
  },
  "language_info": {
   "codemirror_mode": {
    "name": "ipython",
    "version": 3
   },
   "file_extension": ".py",
   "mimetype": "text/x-python",
   "name": "python",
   "nbconvert_exporter": "python",
   "pygments_lexer": "ipython3",
   "version": "3.7.2"
  }
 },
 "nbformat": 4,
 "nbformat_minor": 4
}
